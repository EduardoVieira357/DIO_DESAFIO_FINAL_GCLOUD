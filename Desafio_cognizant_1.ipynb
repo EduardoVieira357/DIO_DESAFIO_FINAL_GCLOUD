{
 "cells": [
  {
   "cell_type": "markdown",
   "metadata": {},
   "source": [
    "## Desafios matemáticos em Python"
   ]
  },
  {
   "cell_type": "markdown",
   "metadata": {},
   "source": [
    "### 1 / 3 - Rodízio de cavalos e carruagens"
   ]
  },
  {
   "cell_type": "markdown",
   "metadata": {},
   "source": [
    "Desafio\n",
    "O rodízio de veículos de Bravoos é uma restrição à circulação de veículos na cidade. Com o propósito de melhorar as condições ambientais reduzindo a carga de poluentes na atmosfera,incluindo na região de Westeros, se consolidou como um instrumento para reduzir congestionamentos nas principais vias da cidade, nos horários de maior movimento. Nas ruas delimitadoras não é permitido o tráfego de cavalos e carruagens que estejam dentro da restrição. Há uma escala que determina em quais dias da semana quais veículos não podem circular. Essa escala é regida pelo último dígito da placa do animal, sendo:\n",
    "\n",
    "Segunda-feira, digito final da placa 1 e 2\n",
    "Terça-feira, digito final da placa 3 e 4\n",
    "Quarta-feira, digito final da placa 5 e 6\n",
    "Quinta-feira, digito final da placa 7 e 8\n",
    "Sexta-feira, digito final da placa 9 e 0\n",
    "Os motoristas que são flagrados violando a restrição de circulação são autuados com multa de 4 galinhas e condenados a passar 1 semana na Muralha.\n",
    "\n",
    "Entrada\n",
    "A primeira linha de entrada representa a quantidade de testes N (0 <= N < 1000) que deverão ser considerados. As demais entradas são cadeia de caracteres com tamanho máximo S (1 <= S <= 100) que representam cada placa que deverá ser analisada, de tal forma que, cada placa fique em uma única linha de entrada. O formato esperado para uma placa veicular válida em Bravoos é \"AAA-9999\", tal que A é um caracter válido em [A-Z], e 9 um dígito numérico válido em [0-9].\n",
    "\n",
    "Saída\n",
    "O conjunto de valores válidos como saída são: SEGUNDA, TERCA, QUARTA, QUINTA e SEXTA, de acordo com a tabela de restrições predefinida, e FALHA caso a placa não apresente o padrão definido.\n",
    "\n",
    " \n",
    "Exemplos de Entrada\tExemplos de Saída\n",
    "3\n",
    "ABC-1234\n",
    "XYZ-1010\n",
    "AAA3333\n",
    "\n",
    "TERCA\n",
    "FRIDAY\n",
    "FALHA\n",
    "\n",
    "4\n",
    "abc-1234\n",
    "a-1010\n",
    "ABCD-1234\n",
    "AIQ-2001\n",
    "\n",
    "FALHA\n",
    "FALHA\n",
    "FALHA\n",
    "SEGUNDA"
   ]
  },
  {
   "cell_type": "markdown",
   "metadata": {},
   "source": [
    "Todas as entradas e saída dos algoritmos são utilizados o STDIN e STDOUT de cada linguagem, abaixo tem algumas dicas de como utilizar cada STDIN e STDOUT de cada linguagem.\n",
    "\n",
    "\n",
    "Python\n",
    "\n",
    "Em Python existe várias formas de implementar o STDIN e STDOUT recomendamos utilizar sys.stdin.readline para o STDIN e o print para o STDOUT.\n",
    "\n",
    "Exemplo:\n",
    "import sys\n",
    "a = int(sys.stdin.readline()) // Lê a linha de entrada"
   ]
  },
  {
   "cell_type": "code",
   "execution_count": null,
   "metadata": {},
   "outputs": [],
   "source": [
    "# ORIGINAL\n",
    "\n",
    "n = int(input())\n",
    "while n:\n",
    "    n -= 1\n",
    "    placa = input().split('-')\n",
    "    if ( ):\n",
    "        try:\n",
    "            check = int(     )\n",
    "            r = int(      )\n",
    "            if \n",
    "                print('FRIDAY')\n",
    "            elif r > 6:\n",
    "                print('THURSDAY')\n",
    "            elif r > 4:\n",
    "                print('WEDNESDAY')\n",
    "            elif r > 2:\n",
    "                print('TUESDAY')\n",
    "            else:\n",
    "                print('MONDAY')\n",
    "        except:\n",
    "            print('FAILURE')\n",
    "    else:\n",
    "        print('FAILURE')"
   ]
  },
  {
   "cell_type": "markdown",
   "metadata": {},
   "source": [
    "======================================================"
   ]
  },
  {
   "cell_type": "markdown",
   "metadata": {},
   "source": [
    "Restrição de circulação de veiculos, com base no ultimo numero da placa\n",
    "1,2 - segunda\n",
    "3,4 - terça\n",
    "5,6 - quarta\n",
    "7,8 - quinta\n",
    "9,0 - sexta\n",
    "\n",
    "Entrada 0<= N <1000\n",
    "\n",
    "As placas entram 1 por linha, de 1<= Placas <=100\n",
    "Ex: AAA-9999 onde (A-Z) e (0-9)\n",
    "\n",
    "Saída: SEGUNDA, TERCA, QUARTA, QUINTA, SEXTA, ou FALHA caso a placa não apresente o padrão definido\n",
    "\n",
    "OBS: leva em consideração TRÊS LETRAS COMO MAIUSCULAS, mais o \" - \", e após 3 numeros.\n",
    "\n",
    "\n"
   ]
  },
  {
   "cell_type": "markdown",
   "metadata": {},
   "source": [
    "#### DESAFIO 1 ENTREGUE - 600 XP"
   ]
  },
  {
   "cell_type": "code",
   "execution_count": null,
   "metadata": {},
   "outputs": [],
   "source": [
    "import re\n",
    "\n",
    "def ck_placa(placa):\n",
    "    #regex = re.compile('[A-Z]{3}$-[0-9]{4}\\Z', re.I)\n",
    "    regex = re.compile(r'[A-Z]{3}[-]{1}[0-9]{4}$')\n",
    "    return bool(regex.match(str(placa)))\n",
    "\n",
    "def dia_semana(final):\n",
    "    dic = {'1':'SEGUNDA', '2':'SEGUNDA', '3':'TERCA','4':'TERCA',\n",
    "           '5':'QUARTA', '6':'QUARTA', '7':'QUINTA', '8':'QUINTA',\n",
    "           '9':'SEXTA','0':'SEXTA'}    \n",
    "    \n",
    "    for key, value in dic.items():\n",
    "        if final == key:\n",
    "            return value\n",
    "\n",
    "\n",
    "vezes = int(input())\n",
    "\n",
    "for n in range(vezes):\n",
    "    placa = input()\n",
    "    if placa == '':\n",
    "        placa = 'NULL'\n",
    "        \n",
    "    final = placa[-1]\n",
    "    #print(final)\n",
    "    #print(final)\n",
    "    \n",
    "    if ck_placa(placa) == True :\n",
    "        \n",
    "        print(dia_semana(final))\n",
    "        \n",
    "    else:\n",
    "        print('FALHA')\n"
   ]
  },
  {
   "cell_type": "markdown",
   "metadata": {},
   "source": [
    "===================================================================="
   ]
  },
  {
   "cell_type": "markdown",
   "metadata": {},
   "source": [
    "### 2 / 3 - Preenchimento de Vetor III"
   ]
  },
  {
   "cell_type": "markdown",
   "metadata": {},
   "source": [
    "Intermediário\n",
    " Princípios Básicos\n",
    "Leia um valor X. Coloque este valor na primeira posição de um vetor N[100]. Em cada posição subsequente de N (1 até 99), coloque a metade do valor armazenado na posição anterior, conforme o exemplo abaixo. Imprima o vetor N.\n",
    "\n",
    "Entrada\n",
    "A entrada contem um valor de dupla precisão com 4 casas decimais.\n",
    "\n",
    "Saída\n",
    "Para cada posição do vetor N, escreva \"N[i] = Y\", onde i é a posição do vetor e Y é o valor armazenado naquela posição. Cada valor do vetor deve ser apresentado com 4 casas decimais.\n",
    "\n",
    " \n",
    "Exemplo de Entrada\tExemplo de Saída\n",
    "200.0000\n",
    "\n",
    "N[0] = 200.0000\n",
    "N[1] = 100.0000\n",
    "N[2] = 50.0000\n",
    "N[3] = 25.0000\n",
    "N[4] = 12.5000"
   ]
  },
  {
   "cell_type": "code",
   "execution_count": null,
   "metadata": {},
   "outputs": [],
   "source": [
    "# ORIGINAL\n",
    "\n",
    "x = float(input())\n",
    "for i in range( ):\n",
    "    print( )\n",
    "    x /= 2"
   ]
  },
  {
   "cell_type": "markdown",
   "metadata": {},
   "source": [
    "#### DESAFIO ENTREGUE - 9 0XP"
   ]
  },
  {
   "cell_type": "code",
   "execution_count": null,
   "metadata": {},
   "outputs": [],
   "source": [
    "x = float(input())\n",
    "lista = []\n",
    "lista.append(x)\n",
    "\n",
    "for i in range(1,100):\n",
    "    lista.append(lista[i-1]/2)\n",
    "\n",
    "for i in range(100):\n",
    "    print('N[{}] = {:.4f}'.format(i, lista[i], 4))"
   ]
  },
  {
   "cell_type": "code",
   "execution_count": null,
   "metadata": {},
   "outputs": [],
   "source": [
    "lista"
   ]
  },
  {
   "cell_type": "markdown",
   "metadata": {},
   "source": [
    "==================================================="
   ]
  },
  {
   "cell_type": "markdown",
   "metadata": {},
   "source": [
    "### 3 / 3 - Tempo de Jogo com Minutos"
   ]
  },
  {
   "cell_type": "markdown",
   "metadata": {},
   "source": [
    "Desafio\n",
    "Leia a hora inicial, minuto inicial, hora final e minuto final de um jogo. A seguir calcule a duração do jogo.\n",
    "\n",
    "Obs: O jogo tem duração mínima de um (1) minuto e duração máxima de 24 horas.\n",
    "\n",
    "Entrada\n",
    "Quatro números inteiros representando a hora de início e fim do jogo.\n",
    "\n",
    "Saída\n",
    "Mostre a seguinte mensagem: “O JOGO DUROU XXX HORA(S) E YYY MINUTO(S)” .\n",
    "\n",
    " \n",
    "Exemplo de Entrada\tExemplo de Saída\n",
    "7 8 9 10\n",
    "\n",
    "O JOGO DUROU 2 HORA(S) E 2 MINUTO(S)\n",
    "\n",
    "7 7 7 7\n",
    "\n",
    "O JOGO DUROU 24 HORA(S) E 0 MINUTO(S)\n",
    "\n",
    "7 10 8 9\n",
    "\n",
    "O JOGO DUROU 0 HORA(S) E 59 MINUTO(S)"
   ]
  },
  {
   "cell_type": "code",
   "execution_count": null,
   "metadata": {},
   "outputs": [],
   "source": [
    "# ORIGINAL\n",
    "\n",
    "i, im, f, fm = map(int, input().split())\n",
    "\n",
    "if f>i and fm>=im:\n",
    "    \n",
    "    print(\"O JOGO DUROU %i HORA(S) E %i MINUTO(S)\" %(h,m))\n",
    "elif f>i and im>fm:\n",
    "    \n",
    "    print(\"O JOGO DUROU %i HORA(S) E %i MINUTO(S)\" %(h,m))\n",
    "elif i>f and fm>=im:\n",
    "    \n",
    "    print(\"O JOGO DUROU %i HORA(S) E %i MINUTO(S)\" %(h,m))\n",
    "elif i>f and im>fm:\n",
    "   \n",
    "    print(\"O JOGO DUROU %i HORA(S) E %i MINUTO(S)\" %(h,m))\n",
    "elif f==i and fm>im:\n",
    "   \n",
    "    print(\"O JOGO DUROU 0 HORA(S) E %i MINUTO(S)\" %(h,m))\n",
    "elif i==f and im==fm:\n",
    "    print(\"O JOGO DUROU 24 HORA(S) E 0 MINUTO(S)\")"
   ]
  },
  {
   "cell_type": "code",
   "execution_count": null,
   "metadata": {},
   "outputs": [],
   "source": []
  },
  {
   "cell_type": "code",
   "execution_count": null,
   "metadata": {},
   "outputs": [],
   "source": [
    "i, im, f, fm = map(int, input().split())\n",
    "print(i,im,f, fm)"
   ]
  },
  {
   "cell_type": "code",
   "execution_count": null,
   "metadata": {},
   "outputs": [],
   "source": [
    "from datetime import datetime\n",
    "i, im, f, fm = input().split()\n",
    "hora_inicio = i + ':' + im + ':' + '00'\n",
    "hora_final = f + ':' + fm + ':' + '00'\n",
    "print (hora_inicio, hora_final)\n",
    "\n",
    "inicio = datetime.strptime(hora_inicio, '%H:%M:%S')"
   ]
  },
  {
   "cell_type": "code",
   "execution_count": null,
   "metadata": {},
   "outputs": [],
   "source": [
    "inicio"
   ]
  },
  {
   "cell_type": "code",
   "execution_count": null,
   "metadata": {},
   "outputs": [],
   "source": []
  },
  {
   "cell_type": "code",
   "execution_count": null,
   "metadata": {},
   "outputs": [],
   "source": [
    "from datetime import datetime\n",
    "from dateutil.relativedelta import relativedelta\n",
    "\n",
    "i, im, f, fm = input().split()\n",
    "hora_inicio = '2021-01-01 '+ i + ':' + im \n",
    "\n",
    "if (int(i) == int(f))  & (int(im) < int(fm)):    \n",
    "    hora_final  = '2021-01-01 '+ f + ':' + fm \n",
    "    \n",
    "elif int(i) >= int(f):    \n",
    "    hora_final  = '2021-01-02 '+ f + ':' + fm \n",
    "    \n",
    "else:\n",
    "    hora_final  = '2021-01-01 '+ f + ':' + fm\n",
    "\n",
    "format = \"%Y-%m-%d %H:%M\"\n",
    "inicio = datetime.strptime(hora_inicio, format)\n",
    "fim = datetime.strptime(hora_final, format)\n",
    "di = abs(relativedelta(inicio, fim))\n",
    "\n",
    "print(f'O JOGO DUROU {di.hours+(di.days*24)} HORA(S) '\n",
    "      f'E {di.minutes} MINUTO(S)')\n"
   ]
  },
  {
   "cell_type": "code",
   "execution_count": null,
   "metadata": {},
   "outputs": [],
   "source": []
  },
  {
   "cell_type": "code",
   "execution_count": null,
   "metadata": {},
   "outputs": [],
   "source": [
    "from datetime import datetime\n",
    "from dateutil.relativedelta import relativedelta\n",
    "\n",
    "a = \"2015-08-05 08:12:23\"\n",
    "b = \"2015-08-09 08:12:23\"\n",
    "f = \"%Y-%m-%d %H:%M:%S\"\n",
    "\n",
    "ini = datetime.strptime(a, f)\n",
    "fim = datetime.strptime(b, f)\n",
    "\n",
    "di = abs(relativedelta(ini, fim))\n",
    "\n",
    "print(f'{di.years} anos, {di.months} meses, {di.days} dias, {di.hours} horas, '\n",
    "      f'{di.minutes} minutos e {di.seconds} segundos.')"
   ]
  },
  {
   "cell_type": "code",
   "execution_count": null,
   "metadata": {},
   "outputs": [],
   "source": []
  },
  {
   "cell_type": "code",
   "execution_count": null,
   "metadata": {},
   "outputs": [],
   "source": [
    "### Testei e deu erro na entrega do desafio somente\n",
    "\n",
    "hora_inicio, minuto_inicio, hora_final, minuto_final = map(int, input().split())\n",
    "\n",
    "horas = hora_final - hora_inicio\n",
    "minutos = minuto_final - minuto_inicio\n",
    "\n",
    "if minutos >= 60: \n",
    "    minutos = minutos - 60\n",
    "    horas = horas + 1\n",
    "    \n",
    "elif minutos < 0: \n",
    "    minutos = minutos + 60 \n",
    "    horas = horas - 1\n",
    "    \n",
    "\n",
    "if horas > 24 | (horas == 24 and minutos > 0): \n",
    "    horas = horas - 24\n",
    "    \n",
    "elif horas < 0: \n",
    "    horas = horas + 24\n",
    "    \n",
    "   \n",
    "if horas == 0 & minutos == 0: \n",
    "    horas = 24\n",
    "\n",
    "    \n",
    "if hora_final - hora_inicio >= 24 and hora_final >= 24: \n",
    "    horas = hora_final - hora_inicio\n",
    "\n",
    "print(f\"O JOGO DUROU {horas} HORA(S) E {minutos} MINUTO(S)\")"
   ]
  },
  {
   "cell_type": "code",
   "execution_count": null,
   "metadata": {},
   "outputs": [],
   "source": []
  },
  {
   "cell_type": "code",
   "execution_count": 1,
   "metadata": {},
   "outputs": [
    {
     "name": "stdout",
     "output_type": "stream",
     "text": [
      "7 7 7 6\n"
     ]
    }
   ],
   "source": []
  },
  {
   "cell_type": "code",
   "execution_count": 4,
   "metadata": {},
   "outputs": [
    {
     "name": "stdout",
     "output_type": "stream",
     "text": [
      "7 7 7 7\n",
      "O JOGO DUROU 24 HORA(S) E 0 MINUTO(S)\n"
     ]
    }
   ],
   "source": [
    "# Copiei colega e tambem deu erro na entrega do desafio\n",
    "\n",
    "x = input().split()\n",
    "#hi, mi, hf, mf = x\n",
    "\n",
    "hi = int(x[0])\n",
    "mi = int(x[1])\n",
    "hf = int(x[2])\n",
    "mf = int(x[3])\n",
    "\n",
    "if hi < hf:\n",
    "    h = hf - hi\n",
    "    if mi < mf:\n",
    "        m = mf - mi\n",
    "    if mi > mf:\n",
    "        h = h - 1\n",
    "        m = (60 - mi) + mf\n",
    "    if mi == mf:\n",
    "        m = 0\n",
    "        \n",
    "if hi > hf:\n",
    "    h = (24 - hi) + hf\n",
    "    if mi < mf:\n",
    "        m = mf - mi\n",
    "    if mi > mf:\n",
    "        h = h - 1\n",
    "        m = (60 - mi) + mf\n",
    "    if mi == mf:\n",
    "        m = 0\n",
    "        \n",
    "if hi == hf:\n",
    "    if mi < mf:\n",
    "        m = mf - mi\n",
    "        h = 0\n",
    "    if mi > mf:\n",
    "        m = (60 - mi) + mf\n",
    "        h = 23\n",
    "    if mi == mf:\n",
    "        h = 24\n",
    "        m = 0\n",
    "    \n",
    "print('O JOGO DUROU {} HORA(S) E {} MINUTO(S)'.format(h, m))"
   ]
  },
  {
   "cell_type": "code",
   "execution_count": null,
   "metadata": {},
   "outputs": [],
   "source": []
  }
 ],
 "metadata": {
  "kernelspec": {
   "display_name": "Python 3",
   "language": "python",
   "name": "python3"
  },
  "language_info": {
   "codemirror_mode": {
    "name": "ipython",
    "version": 3
   },
   "file_extension": ".py",
   "mimetype": "text/x-python",
   "name": "python",
   "nbconvert_exporter": "python",
   "pygments_lexer": "ipython3",
   "version": "3.8.5"
  }
 },
 "nbformat": 4,
 "nbformat_minor": 4
}
